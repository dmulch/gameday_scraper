{
 "cells": [
  {
   "cell_type": "code",
   "execution_count": 116,
   "id": "de399419",
   "metadata": {},
   "outputs": [],
   "source": [
    "import requests, re\n",
    "from bs4 import BeautifulSoup\n",
    "from selenium import webdriver\n",
    "driver = webdriver.Chrome()\n",
    "driver.get('https://www.mlb.com/gameday/nationals-vs-mets/2023/02/26/719379/preview')\n",
    "\n",
    "html = driver.page_source\n",
    "soup = BeautifulSoup(html)"
   ]
  },
  {
   "cell_type": "code",
   "execution_count": 137,
   "id": "b342d638",
   "metadata": {
    "scrolled": true
   },
   "outputs": [
    {
     "name": "stdout",
     "output_type": "stream",
     "text": [
      "Gray, Js vs. Scherzer\n"
     ]
    }
   ],
   "source": [
    "pitch = soup.find_all('div', {'data-mlb-test':'playerNameLinks'})\n",
    "away_pitch = pitch[0].get_text()\n",
    "home_pitch = pitch[1].get_text()\n",
    "print(away_pitch, 'vs.', home_pitch)"
   ]
  },
  {
   "cell_type": "code",
   "execution_count": 119,
   "id": "ffa78501",
   "metadata": {},
   "outputs": [
    {
     "name": "stdout",
     "output_type": "stream",
     "text": [
      "['Abrams SS', 'García, L 2B', 'Meneses DH', 'Adams, M 1B', 'Chavis 3B', 'Call LF', 'Blankenhorn RF', 'Hill, D CF', 'Pineda C', 'Gray, Js'] ['McNeil 2B', 'Canha LF', 'Lindor SS', 'Vogelbach DH', 'Escobar, Edu 3B', 'Pham CF', 'Narváez C', 'Vientos 1B', 'Cedrola RF', 'Scherzer']\n"
     ]
    }
   ],
   "source": [
    "player = soup.find_all('tbody')\n",
    "away_raw = player[0].find_all('tr')\n",
    "home_raw = player[1].find_all('tr')\n",
    "home_hitters = []\n",
    "away_hitters = []\n",
    "for i in home_raw:\n",
    "    home_hitters.append(i.find_all('a')[0].get_text()+ ' ' + i.find_all('span', {'class' : re.compile('PositionWrapper*')})[0].get_text())\n",
    "for i in away_raw:\n",
    "    away_hitters.append(i.find_all('a')[0].get_text()+ ' ' + i.find_all('span', {'class' : re.compile('PositionWrapper*')})[0].get_text())\n",
    "home_hitters.append(home_pitch)\n",
    "away_hitters.append(away_pitch)\n",
    "print(away_hitters, home_hitters)"
   ]
  },
  {
   "cell_type": "code",
   "execution_count": 120,
   "id": "8585d2b4",
   "metadata": {},
   "outputs": [],
   "source": [
    "import pandas as pd\n",
    "import openpyxl\n",
    "\n",
    "df = pd.DataFrame([away_hitters, home_hitters],\n",
    "                 index = ['away hitter', 'home hitter'])\n",
    "# df.to_excel('scoresheet_template.xlsx', sheet_name='data_in')"
   ]
  },
  {
   "cell_type": "code",
   "execution_count": 143,
   "id": "6aaa7a3f",
   "metadata": {},
   "outputs": [],
   "source": [
    "with pd.ExcelWriter(\"data_pull.xlsx\", mode=\"a\", engine=\"openpyxl\", if_sheet_exists=\"replace\") as writer:\n",
    "    df.to_excel(writer, sheet_name=\"data_in\")  "
   ]
  },
  {
   "cell_type": "code",
   "execution_count": 148,
   "id": "5c27bb08",
   "metadata": {
    "scrolled": true
   },
   "outputs": [
    {
     "name": "stdout",
     "output_type": "stream",
     "text": [
      "Bradley vs. Winckowski\n",
      "['Siri CF', 'Mead DH', 'Raley, L RF', 'Bethancourt C', 'Aranda 1B', 'Culberson 2B', 'Gray 3B', 'Jones SS', 'Witherspoon LF', 'Bradley'] ['Casas 1B', 'Devers 3B', 'Turner, J DH', 'Yoshida LF', 'Verdugo RF', 'Hernández, K SS', 'Duvall CF', 'Wong C', 'Goodrum 2B', 'Winckowski']\n"
     ]
    }
   ],
   "source": [
    "# everything together:\n",
    "site = 'https://www.mlb.com/gameday/rays-vs-red-sox/2023/02/26/719378/preview' # change this to the gameday preview\n",
    "\n",
    "import requests, re\n",
    "import pandas as pd\n",
    "import openpyxl\n",
    "from bs4 import BeautifulSoup\n",
    "from selenium import webdriver\n",
    "driver = webdriver.Chrome()\n",
    "driver.get(site)\n",
    "\n",
    "html = driver.page_source\n",
    "soup = BeautifulSoup(html)\n",
    "pitch = soup.find_all('div', {'data-mlb-test':'playerNameLinks'})\n",
    "away_pitch = pitch[0].get_text()\n",
    "home_pitch = pitch[1].get_text()\n",
    "print(away_pitch, 'vs.', home_pitch)\n",
    "player = soup.find_all('tbody')\n",
    "away_raw = player[0].find_all('tr')\n",
    "home_raw = player[1].find_all('tr')\n",
    "home_players = []\n",
    "away_players = []\n",
    "for i in home_raw:\n",
    "    home_players.append(i.find_all('a')[0].get_text()+ ' ' + i.find_all('span', {'class' : re.compile('PositionWrapper*')})[0].get_text())\n",
    "for i in away_raw:\n",
    "    away_players.append(i.find_all('a')[0].get_text()+ ' ' + i.find_all('span', {'class' : re.compile('PositionWrapper*')})[0].get_text())\n",
    "home_players.append(home_pitch)\n",
    "away_players.append(away_pitch)\n",
    "print(away_players, home_players)\n",
    "df = pd.DataFrame([away_players, home_players],\n",
    "                 index = ['away hitter', 'home hitter'])\n",
    "# df.to_excel('scoresheet_template.xlsx', sheet_name='data_in')\n",
    "with pd.ExcelWriter(\"data_pull.xlsx\", mode=\"a\", engine=\"openpyxl\", if_sheet_exists=\"replace\") as writer:\n",
    "    df.to_excel(writer, sheet_name=\"data_in\")  "
   ]
  }
 ],
 "metadata": {
  "kernelspec": {
   "display_name": "Python 3 (ipykernel)",
   "language": "python",
   "name": "python3"
  },
  "language_info": {
   "codemirror_mode": {
    "name": "ipython",
    "version": 3
   },
   "file_extension": ".py",
   "mimetype": "text/x-python",
   "name": "python",
   "nbconvert_exporter": "python",
   "pygments_lexer": "ipython3",
   "version": "3.9.12"
  }
 },
 "nbformat": 4,
 "nbformat_minor": 5
}
